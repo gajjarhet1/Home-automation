{
 "cells": [
  {
   "cell_type": "markdown",
   "metadata": {},
   "source": [
    "# numpy - numerical python library|"
   ]
  },
  {
   "cell_type": "code",
   "execution_count": 4,
   "metadata": {},
   "outputs": [],
   "source": [
    "#import numpy library \n",
    "\n",
    "import numpy as np\n"
   ]
  },
  {
   "cell_type": "code",
   "execution_count": 5,
   "metadata": {},
   "outputs": [
    {
     "data": {
      "text/plain": [
       "array([[1, 2, 3, 4],\n",
       "       [5, 6, 7, 8]])"
      ]
     },
     "execution_count": 5,
     "metadata": {},
     "output_type": "execute_result"
    }
   ],
   "source": [
    "arr = np.array([[1,2,3,4],[5,6,7,8]])\n",
    "\n",
    "arr"
   ]
  },
  {
   "cell_type": "code",
   "execution_count": 6,
   "metadata": {},
   "outputs": [
    {
     "data": {
      "text/plain": [
       "8"
      ]
     },
     "execution_count": 6,
     "metadata": {},
     "output_type": "execute_result"
    }
   ],
   "source": [
    "arr[1][3]"
   ]
  },
  {
   "cell_type": "code",
   "execution_count": 7,
   "metadata": {},
   "outputs": [
    {
     "name": "stdout",
     "output_type": "stream",
     "text": [
      "2\n",
      "(2, 4)\n",
      "<memory at 0x00000176DAB59520>\n",
      "8\n",
      "<class 'numpy.ndarray'>\n"
     ]
    }
   ],
   "source": [
    "#diamension of the array\n",
    "print(arr.ndim)\n",
    "print(arr.shape)\n",
    "print(arr.data)\n",
    "print(arr.size)\n",
    "print(type(arr))"
   ]
  },
  {
   "cell_type": "markdown",
   "metadata": {},
   "source": [
    "# lab 1 random number generator using numpy"
   ]
  },
  {
   "cell_type": "code",
   "execution_count": 8,
   "metadata": {},
   "outputs": [
    {
     "data": {
      "text/plain": [
       "array([78,  9, 57, 76, 12, 33, 42])"
      ]
     },
     "execution_count": 8,
     "metadata": {},
     "output_type": "execute_result"
    }
   ],
   "source": [
    "from numpy import random \n",
    "x= random.randint(100,size=7)\n",
    "x"
   ]
  },
  {
   "cell_type": "code",
   "execution_count": 9,
   "metadata": {},
   "outputs": [
    {
     "data": {
      "text/plain": [
       "array([0.44966881, 0.19298774, 0.27359878, 0.57378083, 0.13158947,\n",
       "       0.36711513, 0.87777803, 0.16958605, 0.42403704, 0.55149474,\n",
       "       0.43610944, 0.15961687, 0.0086258 , 0.97010607, 0.88664959,\n",
       "       0.78148515, 0.32372023, 0.86093731, 0.94901708, 0.52528985,\n",
       "       0.09620398, 0.7366852 , 0.02750775, 0.68001945, 0.79009677,\n",
       "       0.01909317, 0.77865083, 0.70079488, 0.39827457, 0.23074876,\n",
       "       0.94340667, 0.49595988, 0.94660462, 0.53843048, 0.47180994,\n",
       "       0.88062531, 0.82758035, 0.64835396, 0.27247788, 0.57658035,\n",
       "       0.29764853, 0.82707491, 0.3904665 , 0.98557983, 0.81127714,\n",
       "       0.07697436, 0.23540602, 0.95630677, 0.41446698, 0.44541779,\n",
       "       0.87971621, 0.96013266, 0.73758423, 0.90354174, 0.53017577,\n",
       "       0.63856321, 0.44057713, 0.52739095, 0.01272093, 0.647324  ,\n",
       "       0.74051052, 0.42327803, 0.10909826, 0.87267116, 0.12044078,\n",
       "       0.51553414, 0.33861416, 0.63728776, 0.54155242, 0.72773   ,\n",
       "       0.55108996, 0.32988985, 0.49232418, 0.29501031, 0.56398185,\n",
       "       0.17702762, 0.70327932, 0.59447832, 0.58922723, 0.94749854,\n",
       "       0.88371051, 0.33373962, 0.19295003, 0.40740108, 0.64699898,\n",
       "       0.9291621 , 0.9165381 , 0.63002184, 0.2580976 , 0.70341674,\n",
       "       0.27279374, 0.10730511, 0.24513376, 0.15150687, 0.03351009,\n",
       "       0.44070817, 0.79043404, 0.31877914, 0.152938  , 0.43205177])"
      ]
     },
     "execution_count": 9,
     "metadata": {},
     "output_type": "execute_result"
    }
   ],
   "source": [
    "y= random.rand(100)\n",
    "y"
   ]
  },
  {
   "cell_type": "code",
   "execution_count": 10,
   "metadata": {},
   "outputs": [
    {
     "data": {
      "text/plain": [
       "array([[0.14509507, 0.74720266],\n",
       "       [0.05967358, 0.76122867]])"
      ]
     },
     "execution_count": 10,
     "metadata": {},
     "output_type": "execute_result"
    }
   ],
   "source": [
    "h= random.random((2,2))\n",
    "h"
   ]
  },
  {
   "cell_type": "code",
   "execution_count": 11,
   "metadata": {},
   "outputs": [
    {
     "data": {
      "text/plain": [
       "array([[87, 96, 64],\n",
       "       [93, 31, 26],\n",
       "       [47, 92, 68]])"
      ]
     },
     "execution_count": 11,
     "metadata": {},
     "output_type": "execute_result"
    }
   ],
   "source": [
    "x= random.randint(100,size=(3,3))\n",
    "random.seed(100)\n",
    "x"
   ]
  },
  {
   "cell_type": "code",
   "execution_count": 12,
   "metadata": {},
   "outputs": [
    {
     "data": {
      "text/plain": [
       "array([[ 8, 24, 67],\n",
       "       [87, 79, 48],\n",
       "       [10, 94, 52]])"
      ]
     },
     "execution_count": 12,
     "metadata": {},
     "output_type": "execute_result"
    }
   ],
   "source": [
    "y= random.randint(100,size=(3,3))\n",
    "random.seed(100)\n",
    "y"
   ]
  },
  {
   "cell_type": "markdown",
   "metadata": {},
   "source": [
    "# numpy function "
   ]
  },
  {
   "cell_type": "code",
   "execution_count": 13,
   "metadata": {},
   "outputs": [
    {
     "data": {
      "text/plain": [
       "array([[0., 0., 0.],\n",
       "       [0., 0., 0.],\n",
       "       [0., 0., 0.]])"
      ]
     },
     "execution_count": 13,
     "metadata": {},
     "output_type": "execute_result"
    }
   ],
   "source": [
    "#zeros matrix/arrays\n",
    "h = np.zeros((3,3,))\n",
    "h"
   ]
  },
  {
   "cell_type": "code",
   "execution_count": 14,
   "metadata": {},
   "outputs": [
    {
     "data": {
      "text/plain": [
       "array([[1., 1., 1.],\n",
       "       [1., 1., 1.],\n",
       "       [1., 1., 1.]])"
      ]
     },
     "execution_count": 14,
     "metadata": {},
     "output_type": "execute_result"
    }
   ],
   "source": [
    "#ones matrix/arrays\n",
    "h= np.ones((3,3))\n",
    "h"
   ]
  },
  {
   "cell_type": "code",
   "execution_count": 15,
   "metadata": {},
   "outputs": [
    {
     "data": {
      "text/plain": [
       "array([[1., 0., 0.],\n",
       "       [0., 1., 0.],\n",
       "       [0., 0., 1.]])"
      ]
     },
     "execution_count": 15,
     "metadata": {},
     "output_type": "execute_result"
    }
   ],
   "source": [
    "#identity matrix\n",
    "\n",
    "idt = np.eye(3)\n",
    "idt"
   ]
  },
  {
   "cell_type": "code",
   "execution_count": 16,
   "metadata": {},
   "outputs": [
    {
     "data": {
      "text/plain": [
       "array([[5, 5, 5],\n",
       "       [5, 5, 5],\n",
       "       [5, 5, 5]])"
      ]
     },
     "execution_count": 16,
     "metadata": {},
     "output_type": "execute_result"
    }
   ],
   "source": [
    "#create constant matrix \n",
    "const = np.full((3,3),5)\n",
    "const"
   ]
  },
  {
   "cell_type": "markdown",
   "metadata": {},
   "source": [
    "# array  indexing and slicing "
   ]
  },
  {
   "cell_type": "code",
   "execution_count": 17,
   "metadata": {},
   "outputs": [
    {
     "data": {
      "text/plain": [
       "array([[1, 2, 3, 4],\n",
       "       [5, 6, 7, 8]])"
      ]
     },
     "execution_count": 17,
     "metadata": {},
     "output_type": "execute_result"
    }
   ],
   "source": [
    "arr = np.array([[1,2,3,4],[5,6,7,8]])\n",
    "arr"
   ]
  },
  {
   "cell_type": "markdown",
   "metadata": {},
   "source": [
    "a[0][0] a[0][1] a[0][2]"
   ]
  },
  {
   "cell_type": "code",
   "execution_count": 18,
   "metadata": {},
   "outputs": [
    {
     "data": {
      "text/plain": [
       "array([1, 2, 3, 4])"
      ]
     },
     "execution_count": 18,
     "metadata": {},
     "output_type": "execute_result"
    }
   ],
   "source": [
    "arr[0]"
   ]
  },
  {
   "cell_type": "code",
   "execution_count": 19,
   "metadata": {},
   "outputs": [
    {
     "data": {
      "text/plain": [
       "array([5, 6, 7, 8])"
      ]
     },
     "execution_count": 19,
     "metadata": {},
     "output_type": "execute_result"
    }
   ],
   "source": [
    "arr[1]"
   ]
  },
  {
   "cell_type": "code",
   "execution_count": 20,
   "metadata": {},
   "outputs": [
    {
     "data": {
      "text/plain": [
       "array([[1, 4, 3, 4],\n",
       "       [5, 6, 7, 8]])"
      ]
     },
     "execution_count": 20,
     "metadata": {},
     "output_type": "execute_result"
    }
   ],
   "source": [
    "arr[0][1]=4\n",
    "arr"
   ]
  },
  {
   "cell_type": "code",
   "execution_count": 21,
   "metadata": {},
   "outputs": [
    {
     "data": {
      "text/plain": [
       "array([[1, 4, 3, 4],\n",
       "       [5, 6, 7, 8]])"
      ]
     },
     "execution_count": 21,
     "metadata": {},
     "output_type": "execute_result"
    }
   ],
   "source": [
    "#slicing \n",
    "#arr[slicing of   row , slicing of coloums]\n",
    "#arr[st:end , st: end]\n",
    "arr[0: , 1:2]\n",
    "arr"
   ]
  },
  {
   "cell_type": "code",
   "execution_count": 22,
   "metadata": {},
   "outputs": [
    {
     "data": {
      "text/plain": [
       "array([[6, 6, 6, 6],\n",
       "       [6, 6, 6, 6],\n",
       "       [6, 6, 6, 6]])"
      ]
     },
     "execution_count": 22,
     "metadata": {},
     "output_type": "execute_result"
    }
   ],
   "source": [
    "arr1 = np.full((3,4),2)\n",
    "arr1\n",
    "\n",
    "arr2 = np.full((3,4),6)\n",
    "arr2"
   ]
  },
  {
   "cell_type": "markdown",
   "metadata": {},
   "source": [
    "# array broadcasting"
   ]
  },
  {
   "cell_type": "code",
   "execution_count": 23,
   "metadata": {},
   "outputs": [
    {
     "name": "stdout",
     "output_type": "stream",
     "text": [
      "[[8 8 8 8]\n",
      " [8 8 8 8]\n",
      " [8 8 8 8]]\n",
      "[[8 8 8 8]\n",
      " [8 8 8 8]\n",
      " [8 8 8 8]]\n"
     ]
    }
   ],
   "source": [
    "#addition of matrix\n",
    "print(arr1+arr2)\n",
    "print(np.add(arr1,arr2))"
   ]
  },
  {
   "cell_type": "code",
   "execution_count": 24,
   "metadata": {},
   "outputs": [
    {
     "name": "stdout",
     "output_type": "stream",
     "text": [
      "[[-4 -4 -4 -4]\n",
      " [-4 -4 -4 -4]\n",
      " [-4 -4 -4 -4]]\n",
      "[[-4 -4 -4 -4]\n",
      " [-4 -4 -4 -4]\n",
      " [-4 -4 -4 -4]]\n"
     ]
    }
   ],
   "source": [
    "#subtract of matrix\n",
    "print(arr1-arr2)\n",
    "print(np.subtract(arr1,arr2))"
   ]
  },
  {
   "cell_type": "code",
   "execution_count": 25,
   "metadata": {},
   "outputs": [
    {
     "name": "stdout",
     "output_type": "stream",
     "text": [
      "[[12 12 12 12]\n",
      " [12 12 12 12]\n",
      " [12 12 12 12]]\n",
      "[[12 12 12 12]\n",
      " [12 12 12 12]\n",
      " [12 12 12 12]]\n"
     ]
    }
   ],
   "source": [
    "#multiply \n",
    "print(arr1*arr2)\n",
    "print(np.multiply(arr1,arr2))"
   ]
  },
  {
   "cell_type": "code",
   "execution_count": 26,
   "metadata": {},
   "outputs": [
    {
     "data": {
      "text/plain": [
       "array([[1.41421356, 1.41421356, 1.41421356, 1.41421356],\n",
       "       [1.41421356, 1.41421356, 1.41421356, 1.41421356],\n",
       "       [1.41421356, 1.41421356, 1.41421356, 1.41421356]])"
      ]
     },
     "execution_count": 26,
     "metadata": {},
     "output_type": "execute_result"
    }
   ],
   "source": [
    "#square root\n",
    "sq=np.sqrt(arr1)\n",
    "sq"
   ]
  },
  {
   "cell_type": "code",
   "execution_count": 27,
   "metadata": {},
   "outputs": [
    {
     "data": {
      "text/plain": [
       "array([[2.44948974, 2.44948974, 2.44948974, 2.44948974],\n",
       "       [2.44948974, 2.44948974, 2.44948974, 2.44948974],\n",
       "       [2.44948974, 2.44948974, 2.44948974, 2.44948974]])"
      ]
     },
     "execution_count": 27,
     "metadata": {},
     "output_type": "execute_result"
    }
   ],
   "source": [
    "np.sqrt(arr2)"
   ]
  },
  {
   "cell_type": "code",
   "execution_count": 28,
   "metadata": {},
   "outputs": [
    {
     "data": {
      "text/plain": [
       "24"
      ]
     },
     "execution_count": 28,
     "metadata": {},
     "output_type": "execute_result"
    }
   ],
   "source": [
    "np.sum(arr1)"
   ]
  },
  {
   "cell_type": "code",
   "execution_count": 29,
   "metadata": {},
   "outputs": [
    {
     "data": {
      "text/plain": [
       "72"
      ]
     },
     "execution_count": 29,
     "metadata": {},
     "output_type": "execute_result"
    }
   ],
   "source": [
    "np.sum(arr2)"
   ]
  },
  {
   "cell_type": "code",
   "execution_count": 30,
   "metadata": {},
   "outputs": [
    {
     "data": {
      "text/plain": [
       "array([4.24264069, 4.24264069, 4.24264069, 4.24264069])"
      ]
     },
     "execution_count": 30,
     "metadata": {},
     "output_type": "execute_result"
    }
   ],
   "source": [
    "np.sum(sq, axis=0)"
   ]
  },
  {
   "cell_type": "code",
   "execution_count": 31,
   "metadata": {},
   "outputs": [
    {
     "data": {
      "text/plain": [
       "array([5.65685425, 5.65685425, 5.65685425])"
      ]
     },
     "execution_count": 31,
     "metadata": {},
     "output_type": "execute_result"
    }
   ],
   "source": [
    "np.sum(sq, axis=1)"
   ]
  },
  {
   "cell_type": "code",
   "execution_count": 32,
   "metadata": {},
   "outputs": [
    {
     "data": {
      "text/plain": [
       "5.656854249492381"
      ]
     },
     "execution_count": 32,
     "metadata": {},
     "output_type": "execute_result"
    }
   ],
   "source": [
    "np.sum(sq[0], axis=0)"
   ]
  },
  {
   "cell_type": "markdown",
   "metadata": {},
   "source": [
    "# calculate BMI of players"
   ]
  },
  {
   "cell_type": "code",
   "execution_count": 33,
   "metadata": {},
   "outputs": [
    {
     "data": {
      "text/plain": [
       "array([1.3475, 1.617 , 1.47  , 2.156 , 1.813 , 1.715 , 1.225 , 1.911 ,\n",
       "       1.9355, 1.8865, 1.813 ])"
      ]
     },
     "execution_count": 33,
     "metadata": {},
     "output_type": "execute_result"
    }
   ],
   "source": [
    "#height of players in inches\n",
    "height_in =[55,66,60,88,74,70,50,78,79,77,74]\n",
    "ht_np = np.array(height_in)\n",
    "#convert into meter\n",
    "ht_np = ht_np*0.0245\n",
    "ht_np"
   ]
  },
  {
   "cell_type": "code",
   "execution_count": 34,
   "metadata": {},
   "outputs": [
    {
     "data": {
      "text/plain": [
       "array([45.  , 54.  , 51.75, 51.3 , 54.  , 63.  , 63.  , 90.  , 94.5 ,\n",
       "       51.3 , 49.5 ])"
      ]
     },
     "execution_count": 34,
     "metadata": {},
     "output_type": "execute_result"
    }
   ],
   "source": [
    "#weight of players \n",
    "weight_pd = [100,120,115,114,120,140,140,200,210,114,110]\n",
    "wt_np = np.array(weight_pd)\n",
    "\n",
    "#convert into kg\n",
    "wt_np = wt_np*0.45\n",
    "wt_np"
   ]
  },
  {
   "cell_type": "code",
   "execution_count": 35,
   "metadata": {},
   "outputs": [
    {
     "data": {
      "text/plain": [
       "array([24.78306215, 20.65255179, 23.94835485, 11.03620737, 16.42850906,\n",
       "       21.41964658, 41.98250729, 24.64456378, 25.22582957, 14.41463819,\n",
       "       15.05946664])"
      ]
     },
     "execution_count": 35,
     "metadata": {},
     "output_type": "execute_result"
    }
   ],
   "source": [
    "#calculate bmi value\n",
    "bmi=wt_np/ht_np**2\n",
    "bmi"
   ]
  },
  {
   "cell_type": "code",
   "execution_count": 36,
   "metadata": {},
   "outputs": [
    {
     "data": {
      "text/plain": [
       "array([11.03620737, 16.42850906, 14.41463819, 15.05946664])"
      ]
     },
     "execution_count": 36,
     "metadata": {},
     "output_type": "execute_result"
    }
   ],
   "source": [
    "bmi[bmi<20]"
   ]
  },
  {
   "cell_type": "code",
   "execution_count": 37,
   "metadata": {},
   "outputs": [
    {
     "data": {
      "text/plain": [
       "array([24.78306215, 20.65255179, 23.94835485, 21.41964658, 41.98250729,\n",
       "       24.64456378, 25.22582957])"
      ]
     },
     "execution_count": 37,
     "metadata": {},
     "output_type": "execute_result"
    }
   ],
   "source": [
    "bmi[bmi>20]"
   ]
  },
  {
   "cell_type": "code",
   "execution_count": 38,
   "metadata": {},
   "outputs": [
    {
     "data": {
      "text/plain": [
       "array([[45.    , 54.    , 51.75  , 51.3   , 54.    , 63.    , 63.    ,\n",
       "        90.    , 94.5   , 51.3   , 49.5   ],\n",
       "       [ 1.3475,  1.617 ,  1.47  ,  2.156 ,  1.813 ,  1.715 ,  1.225 ,\n",
       "         1.911 ,  1.9355,  1.8865,  1.813 ]])"
      ]
     },
     "execution_count": 38,
     "metadata": {},
     "output_type": "execute_result"
    }
   ],
   "source": [
    "players= np.array([wt_np,ht_np])\n",
    "players"
   ]
  },
  {
   "cell_type": "code",
   "execution_count": 39,
   "metadata": {},
   "outputs": [
    {
     "data": {
      "text/plain": [
       "(11, 2)"
      ]
     },
     "execution_count": 39,
     "metadata": {},
     "output_type": "execute_result"
    }
   ],
   "source": [
    "pT= players.T\n",
    "pT.shape"
   ]
  },
  {
   "cell_type": "markdown",
   "metadata": {},
   "source": [
    "# statical operation"
   ]
  },
  {
   "cell_type": "code",
   "execution_count": 44,
   "metadata": {},
   "outputs": [
    {
     "name": "stdout",
     "output_type": "stream",
     "text": [
      "2.156\n",
      "94.5\n",
      "1.225\n",
      "45.0\n",
      "1.0\n"
     ]
    }
   ],
   "source": [
    "print(np.amax(ht_np))\n",
    "print(np.amax(wt_np))\n",
    "print(np.amin(ht_np))\n",
    "print(np.amin(wt_np))\n",
    "print(np.corrcoef(ht_np))"
   ]
  },
  {
   "cell_type": "code",
   "execution_count": 62,
   "metadata": {},
   "outputs": [
    {
     "data": {
      "text/plain": [
       "array([False,  True,  True, False, False])"
      ]
     },
     "execution_count": 62,
     "metadata": {},
     "output_type": "execute_result"
    }
   ],
   "source": [
    "#boolean\n",
    "bools = [False, True,True,False,False]\n",
    "bools\n",
    "b=np.array(bools)\n",
    "b"
   ]
  },
  {
   "cell_type": "code",
   "execution_count": 63,
   "metadata": {},
   "outputs": [
    {
     "data": {
      "text/plain": [
       "2"
      ]
     },
     "execution_count": 63,
     "metadata": {},
     "output_type": "execute_result"
    }
   ],
   "source": [
    "b.sum()"
   ]
  },
  {
   "cell_type": "code",
   "execution_count": 64,
   "metadata": {},
   "outputs": [
    {
     "data": {
      "text/plain": [
       "True"
      ]
     },
     "execution_count": 64,
     "metadata": {},
     "output_type": "execute_result"
    }
   ],
   "source": [
    "b.any()"
   ]
  },
  {
   "cell_type": "code",
   "execution_count": 65,
   "metadata": {},
   "outputs": [
    {
     "data": {
      "text/plain": [
       "False"
      ]
     },
     "execution_count": 65,
     "metadata": {},
     "output_type": "execute_result"
    }
   ],
   "source": [
    "b.all()"
   ]
  },
  {
   "cell_type": "code",
   "execution_count": 66,
   "metadata": {},
   "outputs": [
    {
     "data": {
      "text/plain": [
       "array(['b', 'b', 'b', 'c', 'c', 'c', 'd', 'd', 'het', 'het'], dtype='<U3')"
      ]
     },
     "execution_count": 66,
     "metadata": {},
     "output_type": "execute_result"
    }
   ],
   "source": [
    "n = np.array(['b','b','b','c','c','c','d','d','het','het'])\n",
    "n"
   ]
  },
  {
   "cell_type": "code",
   "execution_count": 67,
   "metadata": {},
   "outputs": [
    {
     "data": {
      "text/plain": [
       "array(['b', 'c', 'd', 'het'], dtype='<U3')"
      ]
     },
     "execution_count": 67,
     "metadata": {},
     "output_type": "execute_result"
    }
   ],
   "source": [
    "np.unique(n)"
   ]
  },
  {
   "cell_type": "code",
   "execution_count": null,
   "metadata": {},
   "outputs": [],
   "source": []
  }
 ],
 "metadata": {
  "kernelspec": {
   "display_name": "Python 3",
   "language": "python",
   "name": "python3"
  },
  "language_info": {
   "codemirror_mode": {
    "name": "ipython",
    "version": 3
   },
   "file_extension": ".py",
   "mimetype": "text/x-python",
   "name": "python",
   "nbconvert_exporter": "python",
   "pygments_lexer": "ipython3",
   "version": "3.8.5"
  }
 },
 "nbformat": 4,
 "nbformat_minor": 4
}
